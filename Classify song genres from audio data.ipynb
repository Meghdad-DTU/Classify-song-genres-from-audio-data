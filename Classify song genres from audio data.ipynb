{
 "cells": [
  {
   "cell_type": "markdown",
   "metadata": {},
   "source": [
    "### 1. Preparing our dataset\n"
   ]
  },
  {
   "cell_type": "markdown",
   "metadata": {},
   "source": [
    "Over the past few years, streaming services with huge catalogs have become the primary means through which most people listen to their favorite music. But at the same time, the sheer amount of music on offer can mean users might be a bit overwhelmed when trying to look for newer music that suits their tastes.\n",
    "\n",
    "For this reason, streaming services have looked into means of categorizing music to allow for personalized recommendations. One method involves direct analysis of the raw audio information in a given song, scoring the raw data on a variety of metrics. Today, we'll be examining data compiled by a research group known as The Echo Nest. Our goal is to look through this dataset and classify songs as being either 'Hip-Hop' or 'Rock' - all without listening to a single one ourselves. In doing so, we will learn how to clean our data, do some exploratory data visualization, and use feature reduction towards the goal of feeding our data through some simple machine learning algorithms, such as decision trees and logistic regression.\n",
    "\n",
    "To begin with, let's load the metadata about our tracks alongside the track metrics compiled by The Echo Nest. A song is about more than its title, artist, and number of listens. We have another dataset that has musical features of each track such as danceability and acousticness on a scale from -1 to 1. These exist in two different files, which are in different formats - CSV and JSON. While CSV is a popular file format for denoting tabular data, JSON is another common file format in which databases often return the results of a given query.\n",
    "\n",
    "Let's start by creating two pandas DataFrames out of these files that we can merge so we have features and labels (often also referred to as X and y) for the classification later on."
   ]
  },
  {
   "cell_type": "code",
   "execution_count": 20,
   "metadata": {},
   "outputs": [
    {
     "name": "stdout",
     "output_type": "stream",
     "text": [
      "(17734, 21)\n",
      "['track_id', 'bit_rate', 'comments', 'composer', 'date_created', 'date_recorded', 'duration', 'favorites', 'genre_top', 'genres', 'genres_all', 'information', 'interest', 'language_code', 'license', 'listens', 'lyricist', 'number', 'publisher', 'tags', 'title']\n",
      "(13129, 9)\n",
      "['track_id', 'acousticness', 'danceability', 'energy', 'instrumentalness', 'liveness', 'speechiness', 'tempo', 'valence']\n",
      "(4802, 10)\n",
      "track_id            0\n",
      "genre_top           0\n",
      "acousticness        0\n",
      "danceability        0\n",
      "energy              0\n",
      "instrumentalness    0\n",
      "liveness            0\n",
      "speechiness         0\n",
      "tempo               0\n",
      "valence             0\n",
      "dtype: int64\n",
      "track_id              int64\n",
      "genre_top            object\n",
      "acousticness        float64\n",
      "danceability        float64\n",
      "energy              float64\n",
      "instrumentalness    float64\n",
      "liveness            float64\n",
      "speechiness         float64\n",
      "tempo               float64\n",
      "valence             float64\n",
      "dtype: object\n"
     ]
    },
    {
     "data": {
      "text/plain": [
       "Rock       3892\n",
       "Hip-Hop     910\n",
       "Name: genre_top, dtype: int64"
      ]
     },
     "execution_count": 20,
     "metadata": {},
     "output_type": "execute_result"
    }
   ],
   "source": [
    "import pandas as pd\n",
    "import numpy as np\n",
    "import matplotlib.pyplot as plt\n",
    "%matplotlib inline\n",
    "\n",
    "# Read in track metadata with genre labels\n",
    "tracks = pd.read_csv(\"fma-rock-vs-hiphop.csv\")\n",
    "print(tracks.shape)\n",
    "print(tracks.columns.tolist())\n",
    "\n",
    "# Read in track metrics with the features\n",
    "echonest_metrics = pd.read_json(\"echonest-metrics.json\")\n",
    "print(echonest_metrics.shape)\n",
    "print(echonest_metrics.columns.tolist())\n",
    "\n",
    "common_column=np.intersect1d(echonest_metrics.columns,tracks.columns)[0]\n",
    "\n",
    "# Merge the relevant columns of tracks and echonest_metrics\n",
    "echo_tracks = pd.merge(tracks[['track_id',\"genre_top\"]],echonest_metrics,on=common_column,how=\"inner\")\n",
    "print(echo_tracks.shape)\n",
    "\n",
    "# Inspect the resultant dataframe\n",
    "## missing data\n",
    "print(echo_tracks.isnull().sum())\n",
    "## data type\n",
    "print(echo_tracks.dtypes)\n",
    "## distribution of music genre\n",
    "echo_tracks.genre_top.value_counts()"
   ]
  },
  {
   "cell_type": "markdown",
   "metadata": {},
   "source": [
    "### 2. Pairwise relationships between continuous variables"
   ]
  },
  {
   "cell_type": "markdown",
   "metadata": {},
   "source": [
    "We typically want to avoid using variables that have strong correlations with each other -- hence avoiding feature redundancy -- for a few reasons:\n",
    "\n",
    "To keep the model simple and improve interpretability (with many features, we run the risk of overfitting).\n",
    "When our datasets are very large, using fewer features can drastically speed up our computation time.\n",
    "To get a sense of whether there are any strongly correlated features in our data, we will use built-in functions in the pandas package."
   ]
  },
  {
   "cell_type": "code",
   "execution_count": 69,
   "metadata": {
    "scrolled": true
   },
   "outputs": [
    {
     "data": {
      "text/html": [
       "<style  type=\"text/css\" >\n",
       "    #T_c6012842_481d_11ea_889f_340286bab557row0_col0 {\n",
       "            background-color:  #023858;\n",
       "            color:  #f1f1f1;\n",
       "        }    #T_c6012842_481d_11ea_889f_340286bab557row0_col1 {\n",
       "            background-color:  #e0dded;\n",
       "            color:  #000000;\n",
       "        }    #T_c6012842_481d_11ea_889f_340286bab557row0_col2 {\n",
       "            background-color:  #fff7fb;\n",
       "            color:  #000000;\n",
       "        }    #T_c6012842_481d_11ea_889f_340286bab557row0_col3 {\n",
       "            background-color:  #97b7d7;\n",
       "            color:  #000000;\n",
       "        }    #T_c6012842_481d_11ea_889f_340286bab557row0_col4 {\n",
       "            background-color:  #f3edf5;\n",
       "            color:  #000000;\n",
       "        }    #T_c6012842_481d_11ea_889f_340286bab557row0_col5 {\n",
       "            background-color:  #b8c6e0;\n",
       "            color:  #000000;\n",
       "        }    #T_c6012842_481d_11ea_889f_340286bab557row0_col6 {\n",
       "            background-color:  #e1dfed;\n",
       "            color:  #000000;\n",
       "        }    #T_c6012842_481d_11ea_889f_340286bab557row0_col7 {\n",
       "            background-color:  #e2dfee;\n",
       "            color:  #000000;\n",
       "        }    #T_c6012842_481d_11ea_889f_340286bab557row1_col0 {\n",
       "            background-color:  #dcdaeb;\n",
       "            color:  #000000;\n",
       "        }    #T_c6012842_481d_11ea_889f_340286bab557row1_col1 {\n",
       "            background-color:  #023858;\n",
       "            color:  #f1f1f1;\n",
       "        }    #T_c6012842_481d_11ea_889f_340286bab557row1_col2 {\n",
       "            background-color:  #fbf3f9;\n",
       "            color:  #000000;\n",
       "        }    #T_c6012842_481d_11ea_889f_340286bab557row1_col3 {\n",
       "            background-color:  #f3edf5;\n",
       "            color:  #000000;\n",
       "        }    #T_c6012842_481d_11ea_889f_340286bab557row1_col4 {\n",
       "            background-color:  #fff7fb;\n",
       "            color:  #000000;\n",
       "        }    #T_c6012842_481d_11ea_889f_340286bab557row1_col5 {\n",
       "            background-color:  #80aed2;\n",
       "            color:  #000000;\n",
       "        }    #T_c6012842_481d_11ea_889f_340286bab557row1_col6 {\n",
       "            background-color:  #fff7fb;\n",
       "            color:  #000000;\n",
       "        }    #T_c6012842_481d_11ea_889f_340286bab557row1_col7 {\n",
       "            background-color:  #529bc7;\n",
       "            color:  #000000;\n",
       "        }    #T_c6012842_481d_11ea_889f_340286bab557row2_col0 {\n",
       "            background-color:  #fff7fb;\n",
       "            color:  #000000;\n",
       "        }    #T_c6012842_481d_11ea_889f_340286bab557row2_col1 {\n",
       "            background-color:  #fef6fa;\n",
       "            color:  #000000;\n",
       "        }    #T_c6012842_481d_11ea_889f_340286bab557row2_col2 {\n",
       "            background-color:  #023858;\n",
       "            color:  #f1f1f1;\n",
       "        }    #T_c6012842_481d_11ea_889f_340286bab557row2_col3 {\n",
       "            background-color:  #c4cbe3;\n",
       "            color:  #000000;\n",
       "        }    #T_c6012842_481d_11ea_889f_340286bab557row2_col4 {\n",
       "            background-color:  #dcdaeb;\n",
       "            color:  #000000;\n",
       "        }    #T_c6012842_481d_11ea_889f_340286bab557row2_col5 {\n",
       "            background-color:  #dedcec;\n",
       "            color:  #000000;\n",
       "        }    #T_c6012842_481d_11ea_889f_340286bab557row2_col6 {\n",
       "            background-color:  #adc1dd;\n",
       "            color:  #000000;\n",
       "        }    #T_c6012842_481d_11ea_889f_340286bab557row2_col7 {\n",
       "            background-color:  #d9d8ea;\n",
       "            color:  #000000;\n",
       "        }    #T_c6012842_481d_11ea_889f_340286bab557row3_col0 {\n",
       "            background-color:  #a7bddb;\n",
       "            color:  #000000;\n",
       "        }    #T_c6012842_481d_11ea_889f_340286bab557row3_col1 {\n",
       "            background-color:  #fff7fb;\n",
       "            color:  #000000;\n",
       "        }    #T_c6012842_481d_11ea_889f_340286bab557row3_col2 {\n",
       "            background-color:  #d2d3e7;\n",
       "            color:  #000000;\n",
       "        }    #T_c6012842_481d_11ea_889f_340286bab557row3_col3 {\n",
       "            background-color:  #023858;\n",
       "            color:  #f1f1f1;\n",
       "        }    #T_c6012842_481d_11ea_889f_340286bab557row3_col4 {\n",
       "            background-color:  #fdf5fa;\n",
       "            color:  #000000;\n",
       "        }    #T_c6012842_481d_11ea_889f_340286bab557row3_col5 {\n",
       "            background-color:  #fff7fb;\n",
       "            color:  #000000;\n",
       "        }    #T_c6012842_481d_11ea_889f_340286bab557row3_col6 {\n",
       "            background-color:  #d9d8ea;\n",
       "            color:  #000000;\n",
       "        }    #T_c6012842_481d_11ea_889f_340286bab557row3_col7 {\n",
       "            background-color:  #fff7fb;\n",
       "            color:  #000000;\n",
       "        }    #T_c6012842_481d_11ea_889f_340286bab557row4_col0 {\n",
       "            background-color:  #dad9ea;\n",
       "            color:  #000000;\n",
       "        }    #T_c6012842_481d_11ea_889f_340286bab557row4_col1 {\n",
       "            background-color:  #ede8f3;\n",
       "            color:  #000000;\n",
       "        }    #T_c6012842_481d_11ea_889f_340286bab557row4_col2 {\n",
       "            background-color:  #bdc8e1;\n",
       "            color:  #000000;\n",
       "        }    #T_c6012842_481d_11ea_889f_340286bab557row4_col3 {\n",
       "            background-color:  #dbdaeb;\n",
       "            color:  #000000;\n",
       "        }    #T_c6012842_481d_11ea_889f_340286bab557row4_col4 {\n",
       "            background-color:  #023858;\n",
       "            color:  #f1f1f1;\n",
       "        }    #T_c6012842_481d_11ea_889f_340286bab557row4_col5 {\n",
       "            background-color:  #c0c9e2;\n",
       "            color:  #000000;\n",
       "        }    #T_c6012842_481d_11ea_889f_340286bab557row4_col6 {\n",
       "            background-color:  #dcdaeb;\n",
       "            color:  #000000;\n",
       "        }    #T_c6012842_481d_11ea_889f_340286bab557row4_col7 {\n",
       "            background-color:  #e8e4f0;\n",
       "            color:  #000000;\n",
       "        }    #T_c6012842_481d_11ea_889f_340286bab557row5_col0 {\n",
       "            background-color:  #c8cde4;\n",
       "            color:  #000000;\n",
       "        }    #T_c6012842_481d_11ea_889f_340286bab557row5_col1 {\n",
       "            background-color:  #93b5d6;\n",
       "            color:  #000000;\n",
       "        }    #T_c6012842_481d_11ea_889f_340286bab557row5_col2 {\n",
       "            background-color:  #eae6f1;\n",
       "            color:  #000000;\n",
       "        }    #T_c6012842_481d_11ea_889f_340286bab557row5_col3 {\n",
       "            background-color:  #fff7fb;\n",
       "            color:  #000000;\n",
       "        }    #T_c6012842_481d_11ea_889f_340286bab557row5_col4 {\n",
       "            background-color:  #eae6f1;\n",
       "            color:  #000000;\n",
       "        }    #T_c6012842_481d_11ea_889f_340286bab557row5_col5 {\n",
       "            background-color:  #023858;\n",
       "            color:  #f1f1f1;\n",
       "        }    #T_c6012842_481d_11ea_889f_340286bab557row5_col6 {\n",
       "            background-color:  #dbdaeb;\n",
       "            color:  #000000;\n",
       "        }    #T_c6012842_481d_11ea_889f_340286bab557row5_col7 {\n",
       "            background-color:  #bfc9e1;\n",
       "            color:  #000000;\n",
       "        }    #T_c6012842_481d_11ea_889f_340286bab557row6_col0 {\n",
       "            background-color:  #dcdaeb;\n",
       "            color:  #000000;\n",
       "        }    #T_c6012842_481d_11ea_889f_340286bab557row6_col1 {\n",
       "            background-color:  #fef6fa;\n",
       "            color:  #000000;\n",
       "        }    #T_c6012842_481d_11ea_889f_340286bab557row6_col2 {\n",
       "            background-color:  #a7bddb;\n",
       "            color:  #000000;\n",
       "        }    #T_c6012842_481d_11ea_889f_340286bab557row6_col3 {\n",
       "            background-color:  #c5cce3;\n",
       "            color:  #000000;\n",
       "        }    #T_c6012842_481d_11ea_889f_340286bab557row6_col4 {\n",
       "            background-color:  #f0eaf4;\n",
       "            color:  #000000;\n",
       "        }    #T_c6012842_481d_11ea_889f_340286bab557row6_col5 {\n",
       "            background-color:  #c8cde4;\n",
       "            color:  #000000;\n",
       "        }    #T_c6012842_481d_11ea_889f_340286bab557row6_col6 {\n",
       "            background-color:  #023858;\n",
       "            color:  #f1f1f1;\n",
       "        }    #T_c6012842_481d_11ea_889f_340286bab557row6_col7 {\n",
       "            background-color:  #d6d6e9;\n",
       "            color:  #000000;\n",
       "        }    #T_c6012842_481d_11ea_889f_340286bab557row7_col0 {\n",
       "            background-color:  #d9d8ea;\n",
       "            color:  #000000;\n",
       "        }    #T_c6012842_481d_11ea_889f_340286bab557row7_col1 {\n",
       "            background-color:  #4c99c5;\n",
       "            color:  #000000;\n",
       "        }    #T_c6012842_481d_11ea_889f_340286bab557row7_col2 {\n",
       "            background-color:  #d1d2e6;\n",
       "            color:  #000000;\n",
       "        }    #T_c6012842_481d_11ea_889f_340286bab557row7_col3 {\n",
       "            background-color:  #efe9f3;\n",
       "            color:  #000000;\n",
       "        }    #T_c6012842_481d_11ea_889f_340286bab557row7_col4 {\n",
       "            background-color:  #f7f0f7;\n",
       "            color:  #000000;\n",
       "        }    #T_c6012842_481d_11ea_889f_340286bab557row7_col5 {\n",
       "            background-color:  #a5bddb;\n",
       "            color:  #000000;\n",
       "        }    #T_c6012842_481d_11ea_889f_340286bab557row7_col6 {\n",
       "            background-color:  #d3d4e7;\n",
       "            color:  #000000;\n",
       "        }    #T_c6012842_481d_11ea_889f_340286bab557row7_col7 {\n",
       "            background-color:  #023858;\n",
       "            color:  #f1f1f1;\n",
       "        }</style><table id=\"T_c6012842_481d_11ea_889f_340286bab557\" ><thead>    <tr>        <th class=\"blank level0\" ></th>        <th class=\"col_heading level0 col0\" >acousticness</th>        <th class=\"col_heading level0 col1\" >danceability</th>        <th class=\"col_heading level0 col2\" >energy</th>        <th class=\"col_heading level0 col3\" >instrumentalness</th>        <th class=\"col_heading level0 col4\" >liveness</th>        <th class=\"col_heading level0 col5\" >speechiness</th>        <th class=\"col_heading level0 col6\" >tempo</th>        <th class=\"col_heading level0 col7\" >valence</th>    </tr></thead><tbody>\n",
       "                <tr>\n",
       "                        <th id=\"T_c6012842_481d_11ea_889f_340286bab557level0_row0\" class=\"row_heading level0 row0\" >acousticness</th>\n",
       "                        <td id=\"T_c6012842_481d_11ea_889f_340286bab557row0_col0\" class=\"data row0 col0\" >1</td>\n",
       "                        <td id=\"T_c6012842_481d_11ea_889f_340286bab557row0_col1\" class=\"data row0 col1\" >-0.0289537</td>\n",
       "                        <td id=\"T_c6012842_481d_11ea_889f_340286bab557row0_col2\" class=\"data row0 col2\" >-0.281619</td>\n",
       "                        <td id=\"T_c6012842_481d_11ea_889f_340286bab557row0_col3\" class=\"data row0 col3\" >0.19478</td>\n",
       "                        <td id=\"T_c6012842_481d_11ea_889f_340286bab557row0_col4\" class=\"data row0 col4\" >-0.0199914</td>\n",
       "                        <td id=\"T_c6012842_481d_11ea_889f_340286bab557row0_col5\" class=\"data row0 col5\" >0.072204</td>\n",
       "                        <td id=\"T_c6012842_481d_11ea_889f_340286bab557row0_col6\" class=\"data row0 col6\" >-0.0263097</td>\n",
       "                        <td id=\"T_c6012842_481d_11ea_889f_340286bab557row0_col7\" class=\"data row0 col7\" >-0.0138406</td>\n",
       "            </tr>\n",
       "            <tr>\n",
       "                        <th id=\"T_c6012842_481d_11ea_889f_340286bab557level0_row1\" class=\"row_heading level0 row1\" >danceability</th>\n",
       "                        <td id=\"T_c6012842_481d_11ea_889f_340286bab557row1_col0\" class=\"data row1 col0\" >-0.0289537</td>\n",
       "                        <td id=\"T_c6012842_481d_11ea_889f_340286bab557row1_col1\" class=\"data row1 col1\" >1</td>\n",
       "                        <td id=\"T_c6012842_481d_11ea_889f_340286bab557row1_col2\" class=\"data row1 col2\" >-0.242032</td>\n",
       "                        <td id=\"T_c6012842_481d_11ea_889f_340286bab557row1_col3\" class=\"data row1 col3\" >-0.255217</td>\n",
       "                        <td id=\"T_c6012842_481d_11ea_889f_340286bab557row1_col4\" class=\"data row1 col4\" >-0.106584</td>\n",
       "                        <td id=\"T_c6012842_481d_11ea_889f_340286bab557row1_col5\" class=\"data row1 col5\" >0.276206</td>\n",
       "                        <td id=\"T_c6012842_481d_11ea_889f_340286bab557row1_col6\" class=\"data row1 col6\" >-0.242089</td>\n",
       "                        <td id=\"T_c6012842_481d_11ea_889f_340286bab557row1_col7\" class=\"data row1 col7\" >0.473165</td>\n",
       "            </tr>\n",
       "            <tr>\n",
       "                        <th id=\"T_c6012842_481d_11ea_889f_340286bab557level0_row2\" class=\"row_heading level0 row2\" >energy</th>\n",
       "                        <td id=\"T_c6012842_481d_11ea_889f_340286bab557row2_col0\" class=\"data row2 col0\" >-0.281619</td>\n",
       "                        <td id=\"T_c6012842_481d_11ea_889f_340286bab557row2_col1\" class=\"data row2 col1\" >-0.242032</td>\n",
       "                        <td id=\"T_c6012842_481d_11ea_889f_340286bab557row2_col2\" class=\"data row2 col2\" >1</td>\n",
       "                        <td id=\"T_c6012842_481d_11ea_889f_340286bab557row2_col3\" class=\"data row2 col3\" >0.0282377</td>\n",
       "                        <td id=\"T_c6012842_481d_11ea_889f_340286bab557row2_col4\" class=\"data row2 col4\" >0.113331</td>\n",
       "                        <td id=\"T_c6012842_481d_11ea_889f_340286bab557row2_col5\" class=\"data row2 col5\" >-0.109983</td>\n",
       "                        <td id=\"T_c6012842_481d_11ea_889f_340286bab557row2_col6\" class=\"data row2 col6\" >0.195227</td>\n",
       "                        <td id=\"T_c6012842_481d_11ea_889f_340286bab557row2_col7\" class=\"data row2 col7\" >0.0386027</td>\n",
       "            </tr>\n",
       "            <tr>\n",
       "                        <th id=\"T_c6012842_481d_11ea_889f_340286bab557level0_row3\" class=\"row_heading level0 row3\" >instrumentalness</th>\n",
       "                        <td id=\"T_c6012842_481d_11ea_889f_340286bab557row3_col0\" class=\"data row3 col0\" >0.19478</td>\n",
       "                        <td id=\"T_c6012842_481d_11ea_889f_340286bab557row3_col1\" class=\"data row3 col1\" >-0.255217</td>\n",
       "                        <td id=\"T_c6012842_481d_11ea_889f_340286bab557row3_col2\" class=\"data row3 col2\" >0.0282377</td>\n",
       "                        <td id=\"T_c6012842_481d_11ea_889f_340286bab557row3_col3\" class=\"data row3 col3\" >1</td>\n",
       "                        <td id=\"T_c6012842_481d_11ea_889f_340286bab557row3_col4\" class=\"data row3 col4\" >-0.0910218</td>\n",
       "                        <td id=\"T_c6012842_481d_11ea_889f_340286bab557row3_col5\" class=\"data row3 col5\" >-0.366762</td>\n",
       "                        <td id=\"T_c6012842_481d_11ea_889f_340286bab557row3_col6\" class=\"data row3 col6\" >0.022215</td>\n",
       "                        <td id=\"T_c6012842_481d_11ea_889f_340286bab557row3_col7\" class=\"data row3 col7\" >-0.219967</td>\n",
       "            </tr>\n",
       "            <tr>\n",
       "                        <th id=\"T_c6012842_481d_11ea_889f_340286bab557level0_row4\" class=\"row_heading level0 row4\" >liveness</th>\n",
       "                        <td id=\"T_c6012842_481d_11ea_889f_340286bab557row4_col0\" class=\"data row4 col0\" >-0.0199914</td>\n",
       "                        <td id=\"T_c6012842_481d_11ea_889f_340286bab557row4_col1\" class=\"data row4 col1\" >-0.106584</td>\n",
       "                        <td id=\"T_c6012842_481d_11ea_889f_340286bab557row4_col2\" class=\"data row4 col2\" >0.113331</td>\n",
       "                        <td id=\"T_c6012842_481d_11ea_889f_340286bab557row4_col3\" class=\"data row4 col3\" >-0.0910218</td>\n",
       "                        <td id=\"T_c6012842_481d_11ea_889f_340286bab557row4_col4\" class=\"data row4 col4\" >1</td>\n",
       "                        <td id=\"T_c6012842_481d_11ea_889f_340286bab557row4_col5\" class=\"data row4 col5\" >0.0411725</td>\n",
       "                        <td id=\"T_c6012842_481d_11ea_889f_340286bab557row4_col6\" class=\"data row4 col6\" >0.00273169</td>\n",
       "                        <td id=\"T_c6012842_481d_11ea_889f_340286bab557row4_col7\" class=\"data row4 col7\" >-0.0450931</td>\n",
       "            </tr>\n",
       "            <tr>\n",
       "                        <th id=\"T_c6012842_481d_11ea_889f_340286bab557level0_row5\" class=\"row_heading level0 row5\" >speechiness</th>\n",
       "                        <td id=\"T_c6012842_481d_11ea_889f_340286bab557row5_col0\" class=\"data row5 col0\" >0.072204</td>\n",
       "                        <td id=\"T_c6012842_481d_11ea_889f_340286bab557row5_col1\" class=\"data row5 col1\" >0.276206</td>\n",
       "                        <td id=\"T_c6012842_481d_11ea_889f_340286bab557row5_col2\" class=\"data row5 col2\" >-0.109983</td>\n",
       "                        <td id=\"T_c6012842_481d_11ea_889f_340286bab557row5_col3\" class=\"data row5 col3\" >-0.366762</td>\n",
       "                        <td id=\"T_c6012842_481d_11ea_889f_340286bab557row5_col4\" class=\"data row5 col4\" >0.0411725</td>\n",
       "                        <td id=\"T_c6012842_481d_11ea_889f_340286bab557row5_col5\" class=\"data row5 col5\" >1</td>\n",
       "                        <td id=\"T_c6012842_481d_11ea_889f_340286bab557row5_col6\" class=\"data row5 col6\" >0.00824055</td>\n",
       "                        <td id=\"T_c6012842_481d_11ea_889f_340286bab557row5_col7\" class=\"data row5 col7\" >0.149894</td>\n",
       "            </tr>\n",
       "            <tr>\n",
       "                        <th id=\"T_c6012842_481d_11ea_889f_340286bab557level0_row6\" class=\"row_heading level0 row6\" >tempo</th>\n",
       "                        <td id=\"T_c6012842_481d_11ea_889f_340286bab557row6_col0\" class=\"data row6 col0\" >-0.0263097</td>\n",
       "                        <td id=\"T_c6012842_481d_11ea_889f_340286bab557row6_col1\" class=\"data row6 col1\" >-0.242089</td>\n",
       "                        <td id=\"T_c6012842_481d_11ea_889f_340286bab557row6_col2\" class=\"data row6 col2\" >0.195227</td>\n",
       "                        <td id=\"T_c6012842_481d_11ea_889f_340286bab557row6_col3\" class=\"data row6 col3\" >0.022215</td>\n",
       "                        <td id=\"T_c6012842_481d_11ea_889f_340286bab557row6_col4\" class=\"data row6 col4\" >0.00273169</td>\n",
       "                        <td id=\"T_c6012842_481d_11ea_889f_340286bab557row6_col5\" class=\"data row6 col5\" >0.00824055</td>\n",
       "                        <td id=\"T_c6012842_481d_11ea_889f_340286bab557row6_col6\" class=\"data row6 col6\" >1</td>\n",
       "                        <td id=\"T_c6012842_481d_11ea_889f_340286bab557row6_col7\" class=\"data row6 col7\" >0.0522212</td>\n",
       "            </tr>\n",
       "            <tr>\n",
       "                        <th id=\"T_c6012842_481d_11ea_889f_340286bab557level0_row7\" class=\"row_heading level0 row7\" >valence</th>\n",
       "                        <td id=\"T_c6012842_481d_11ea_889f_340286bab557row7_col0\" class=\"data row7 col0\" >-0.0138406</td>\n",
       "                        <td id=\"T_c6012842_481d_11ea_889f_340286bab557row7_col1\" class=\"data row7 col1\" >0.473165</td>\n",
       "                        <td id=\"T_c6012842_481d_11ea_889f_340286bab557row7_col2\" class=\"data row7 col2\" >0.0386027</td>\n",
       "                        <td id=\"T_c6012842_481d_11ea_889f_340286bab557row7_col3\" class=\"data row7 col3\" >-0.219967</td>\n",
       "                        <td id=\"T_c6012842_481d_11ea_889f_340286bab557row7_col4\" class=\"data row7 col4\" >-0.0450931</td>\n",
       "                        <td id=\"T_c6012842_481d_11ea_889f_340286bab557row7_col5\" class=\"data row7 col5\" >0.149894</td>\n",
       "                        <td id=\"T_c6012842_481d_11ea_889f_340286bab557row7_col6\" class=\"data row7 col6\" >0.0522212</td>\n",
       "                        <td id=\"T_c6012842_481d_11ea_889f_340286bab557row7_col7\" class=\"data row7 col7\" >1</td>\n",
       "            </tr>\n",
       "    </tbody></table>"
      ],
      "text/plain": [
       "<pandas.io.formats.style.Styler at 0x249221972c8>"
      ]
     },
     "execution_count": 69,
     "metadata": {},
     "output_type": "execute_result"
    }
   ],
   "source": [
    "# Create a correlation matrix\n",
    "corr_metrics = echo_tracks.iloc[:,2:].corr()\n",
    "corr_metrics.style.background_gradient()"
   ]
  },
  {
   "cell_type": "markdown",
   "metadata": {},
   "source": [
    "From the above plot, there is not a much strong correlation between any of the features. So, we need not remove any feature from our data."
   ]
  },
  {
   "cell_type": "markdown",
   "metadata": {},
   "source": [
    "### 3. Features distribution\n",
    "In order to build an ML model for classifying song genres, let’s take a closer look at the features histograms."
   ]
  },
  {
   "cell_type": "code",
   "execution_count": 21,
   "metadata": {},
   "outputs": [
    {
     "data": {
      "image/png": "[encoded data removed]",
      "text/plain": [
       "<Figure size 1080x432 with 8 Axes>"
      ]
     },
     "metadata": {
      "needs_background": "light"
     },
     "output_type": "display_data"
    }
   ],
   "source": [
    "colNames=echo_tracks.iloc[:,2:].columns.tolist()\n",
    "fig, axs = plt.subplots(2,4, figsize=(15, 6))\n",
    "fig.subplots_adjust(hspace = .3, wspace=.3)\n",
    "\n",
    "axs = axs.ravel()\n",
    "\n",
    "for i in range(len(colNames)):\n",
    "    axs[i].hist(echo_tracks[colNames[i]],edgecolor=\"k\")\n",
    "    axs[i].set_title(colNames[i])\n",
    "    axs[i].grid(linestyle=\"--\")"
   ]
  },
  {
   "cell_type": "markdown",
   "metadata": {},
   "source": [
    "### 4. Normalizing the feature data\n",
    "It can be particularly useful to simplify our models and use as few features as necessary to achieve the best result. Since we didn't find any particular strong correlations between our features, we can instead use a common approach to reduce the number of features called principal component analysis (PCA).\n",
    "\n",
    "It is possible that the variance between genres can be explained by just a few features in the dataset. PCA rotates the data along the axis of highest variance, thus allowing us to determine the relative contribution of each feature of our data towards the variance between classes.\n",
    "\n",
    "However, since PCA uses the absolute variance of a feature to rotate the data, a feature with a broader range of values will overpower and bias the algorithm relative to the other features. To avoid this, we must first normalize our data. There are a few methods to do this, but a common way is through standardization, such that all features have a mean = 0 and standard deviation = 1 (the resultant is a z-score)."
   ]
  },
  {
   "cell_type": "code",
   "execution_count": 22,
   "metadata": {},
   "outputs": [
    {
     "data": {
      "text/html": [
       "<div>\n",
       "<style scoped>\n",
       "    .dataframe tbody tr th:only-of-type {\n",
       "        vertical-align: middle;\n",
       "    }\n",
       "\n",
       "    .dataframe tbody tr th {\n",
       "        vertical-align: top;\n",
       "    }\n",
       "\n",
       "    .dataframe thead th {\n",
       "        text-align: right;\n",
       "    }\n",
       "</style>\n",
       "<table border=\"1\" class=\"dataframe\">\n",
       "  <thead>\n",
       "    <tr style=\"text-align: right;\">\n",
       "      <th></th>\n",
       "      <th>feature1</th>\n",
       "      <th>feature2</th>\n",
       "      <th>feature3</th>\n",
       "      <th>feature4</th>\n",
       "      <th>feature5</th>\n",
       "      <th>feature6</th>\n",
       "      <th>feature7</th>\n",
       "      <th>feature8</th>\n",
       "    </tr>\n",
       "    <tr>\n",
       "      <th>genre_top</th>\n",
       "      <th></th>\n",
       "      <th></th>\n",
       "      <th></th>\n",
       "      <th></th>\n",
       "      <th></th>\n",
       "      <th></th>\n",
       "      <th></th>\n",
       "      <th></th>\n",
       "    </tr>\n",
       "  </thead>\n",
       "  <tbody>\n",
       "    <tr>\n",
       "      <td>Rock</td>\n",
       "      <td>1.361706</td>\n",
       "      <td>-0.985896</td>\n",
       "      <td>1.453323</td>\n",
       "      <td>0.979975</td>\n",
       "      <td>-0.442757</td>\n",
       "      <td>-0.364157</td>\n",
       "      <td>-1.072003</td>\n",
       "      <td>-1.573102</td>\n",
       "    </tr>\n",
       "    <tr>\n",
       "      <td>Rock</td>\n",
       "      <td>1.312342</td>\n",
       "      <td>-0.455681</td>\n",
       "      <td>-2.463985</td>\n",
       "      <td>0.937757</td>\n",
       "      <td>-0.496436</td>\n",
       "      <td>-0.498224</td>\n",
       "      <td>-2.145066</td>\n",
       "      <td>-1.567050</td>\n",
       "    </tr>\n",
       "    <tr>\n",
       "      <td>Rock</td>\n",
       "      <td>1.343645</td>\n",
       "      <td>-1.604002</td>\n",
       "      <td>1.176091</td>\n",
       "      <td>0.964802</td>\n",
       "      <td>1.165836</td>\n",
       "      <td>-0.118903</td>\n",
       "      <td>-1.022854</td>\n",
       "      <td>-1.571949</td>\n",
       "    </tr>\n",
       "    <tr>\n",
       "      <td>Rock</td>\n",
       "      <td>1.363976</td>\n",
       "      <td>-1.147674</td>\n",
       "      <td>0.400404</td>\n",
       "      <td>-0.905888</td>\n",
       "      <td>-0.635199</td>\n",
       "      <td>-0.352735</td>\n",
       "      <td>-0.951969</td>\n",
       "      <td>-1.594372</td>\n",
       "    </tr>\n",
       "    <tr>\n",
       "      <td>Rock</td>\n",
       "      <td>1.085570</td>\n",
       "      <td>-0.752319</td>\n",
       "      <td>0.488500</td>\n",
       "      <td>0.841695</td>\n",
       "      <td>-0.321565</td>\n",
       "      <td>-0.110309</td>\n",
       "      <td>-0.847319</td>\n",
       "      <td>-1.424831</td>\n",
       "    </tr>\n",
       "  </tbody>\n",
       "</table>\n",
       "</div>"
      ],
      "text/plain": [
       "           feature1  feature2  feature3  feature4  feature5  feature6  \\\n",
       "genre_top                                                               \n",
       "Rock       1.361706 -0.985896  1.453323  0.979975 -0.442757 -0.364157   \n",
       "Rock       1.312342 -0.455681 -2.463985  0.937757 -0.496436 -0.498224   \n",
       "Rock       1.343645 -1.604002  1.176091  0.964802  1.165836 -0.118903   \n",
       "Rock       1.363976 -1.147674  0.400404 -0.905888 -0.635199 -0.352735   \n",
       "Rock       1.085570 -0.752319  0.488500  0.841695 -0.321565 -0.110309   \n",
       "\n",
       "           feature7  feature8  \n",
       "genre_top                      \n",
       "Rock      -1.072003 -1.573102  \n",
       "Rock      -2.145066 -1.567050  \n",
       "Rock      -1.022854 -1.571949  \n",
       "Rock      -0.951969 -1.594372  \n",
       "Rock      -0.847319 -1.424831  "
      ]
     },
     "execution_count": 22,
     "metadata": {},
     "output_type": "execute_result"
    }
   ],
   "source": [
    "from sklearn.preprocessing import StandardScaler, MinMaxScaler\n",
    "#scaler = MinMaxScaler(feature_range=(0, 1))\n",
    "scaler =StandardScaler()\n",
    "dat=echo_tracks.drop([\"track_id\"],axis=1).set_index(\"genre_top\")\n",
    "colName= [\"feature%s\"%(i+1) for i in range(0,dat.shape[1])]\n",
    "ind=dat.index\n",
    "dat_scaled = scaler.fit_transform(dat)\n",
    "df = pd.DataFrame(dat_scaled).set_axis(colName, axis=1,inplace=False) ## set column name\n",
    "df.set_index(ind,inplace=True)\n",
    "df.head()"
   ]
  },
  {
   "cell_type": "markdown",
   "metadata": {},
   "source": [
    "### 5. Principal Component Analysis on our scaled data\n",
    "Now that we have preprocessed our data, we are ready to use PCA to determine by how much we can reduce the dimensionality of our data. We can use scree-plots and cumulative explained ratio plots to find the number of components to use in further analyses.\n",
    "\n",
    "Scree-plots display the number of components against the variance explained by each component, sorted in descending order of variance. Scree-plots help us get a better sense of which components explain a sufficient amount of variance in our data. When using scree plots, an 'elbow' (a steep drop from one data point to the next) in the plot is typically used to decide on an appropriate cutoff."
   ]
  },
  {
   "cell_type": "code",
   "execution_count": 23,
   "metadata": {},
   "outputs": [
    {
     "data": {
      "text/plain": [
       "PCA(copy=True, iterated_power='auto', n_components=None, random_state=None,\n",
       "    svd_solver='auto', tol=0.0, whiten=False)"
      ]
     },
     "execution_count": 23,
     "metadata": {},
     "output_type": "execute_result"
    }
   ],
   "source": [
    "from sklearn import decomposition\n",
    "pca=decomposition.PCA()\n",
    "pca.fit(df)"
   ]
  },
  {
   "cell_type": "code",
   "execution_count": 24,
   "metadata": {
    "scrolled": false
   },
   "outputs": [
    {
     "data": {
      "image/png": "[encoded data removed]",
      "text/plain": [
       "<Figure size 576x288 with 1 Axes>"
      ]
     },
     "metadata": {
      "needs_background": "light"
     },
     "output_type": "display_data"
    }
   ],
   "source": [
    "# plot the explained variance using a barplot\n",
    "percent_variance = np.round(pca.explained_variance_ratio_* 100, decimals =2)\n",
    "columns = [\"PC%d\"%(i+1) for i in range(0,df.shape[1])] \n",
    "plt.figure(figsize=(8, 4))\n",
    "plt.bar(x= range(0,df.shape[1]), height=percent_variance, tick_label=columns)\n",
    "plt.ylabel('Percentate of Variance Explained')\n",
    "plt.xlabel('Principal Component')\n",
    "plt.title('PCA Scree Plot')\n",
    "plt.grid(alpha=.5,linestyle='--',axis=\"y\")\n",
    "plt.show()"
   ]
  },
  {
   "cell_type": "markdown",
   "metadata": {},
   "source": [
    "### 6. Further visualization of PCA\n",
    "We can also look at the cumulative explained variance plot to determine how many features are required to explain, say, about 90% of the variance (cutoffs are somewhat arbitrary here, and usually decided upon by ‘rules of thumb’). Once we determine the appropriate number of components, we can perform PCA with that many components, ideally reducing the dimensionality of our data."
   ]
  },
  {
   "cell_type": "code",
   "execution_count": 25,
   "metadata": {},
   "outputs": [
    {
     "name": "stdout",
     "output_type": "stream",
     "text": [
      "Cumulative explained variance:\n"
     ]
    },
    {
     "data": {
      "text/plain": [
       "array([0.24, 0.42, 0.56, 0.69, 0.8 , 0.88, 0.95, 1.  ])"
      ]
     },
     "execution_count": 25,
     "metadata": {},
     "output_type": "execute_result"
    }
   ],
   "source": [
    "# Calculate the cumulative explained variance\n",
    "print(\"Cumulative explained variance:\")\n",
    "np.cumsum(np.round(pca.explained_variance_ratio_, decimals =2))"
   ]
  },
  {
   "cell_type": "markdown",
   "metadata": {},
   "source": [
    "Cumulative explained variance shows that at least 6 components should be used for dimensionality reduction."
   ]
  },
  {
   "cell_type": "code",
   "execution_count": 26,
   "metadata": {
    "scrolled": true
   },
   "outputs": [
    {
     "data": {
      "text/html": [
       "<div>\n",
       "<style scoped>\n",
       "    .dataframe tbody tr th:only-of-type {\n",
       "        vertical-align: middle;\n",
       "    }\n",
       "\n",
       "    .dataframe tbody tr th {\n",
       "        vertical-align: top;\n",
       "    }\n",
       "\n",
       "    .dataframe thead th {\n",
       "        text-align: right;\n",
       "    }\n",
       "</style>\n",
       "<table border=\"1\" class=\"dataframe\">\n",
       "  <thead>\n",
       "    <tr style=\"text-align: right;\">\n",
       "      <th></th>\n",
       "      <th>genre_top</th>\n",
       "      <th>0</th>\n",
       "      <th>1</th>\n",
       "    </tr>\n",
       "  </thead>\n",
       "  <tbody>\n",
       "    <tr>\n",
       "      <td>0</td>\n",
       "      <td>Rock</td>\n",
       "      <td>-1.985831</td>\n",
       "      <td>-0.938476</td>\n",
       "    </tr>\n",
       "    <tr>\n",
       "      <td>1</td>\n",
       "      <td>Rock</td>\n",
       "      <td>-0.594211</td>\n",
       "      <td>-3.653654</td>\n",
       "    </tr>\n",
       "    <tr>\n",
       "      <td>2</td>\n",
       "      <td>Rock</td>\n",
       "      <td>-2.262004</td>\n",
       "      <td>-0.573828</td>\n",
       "    </tr>\n",
       "    <tr>\n",
       "      <td>3</td>\n",
       "      <td>Rock</td>\n",
       "      <td>-1.025892</td>\n",
       "      <td>-0.906588</td>\n",
       "    </tr>\n",
       "    <tr>\n",
       "      <td>4</td>\n",
       "      <td>Rock</td>\n",
       "      <td>-1.432552</td>\n",
       "      <td>-1.172205</td>\n",
       "    </tr>\n",
       "  </tbody>\n",
       "</table>\n",
       "</div>"
      ],
      "text/plain": [
       "  genre_top         0         1\n",
       "0      Rock -1.985831 -0.938476\n",
       "1      Rock -0.594211 -3.653654\n",
       "2      Rock -2.262004 -0.573828\n",
       "3      Rock -1.025892 -0.906588\n",
       "4      Rock -1.432552 -1.172205"
      ]
     },
     "execution_count": 26,
     "metadata": {},
     "output_type": "execute_result"
    }
   ],
   "source": [
    "## Perform PCA with two components and project data onto components\n",
    "pca_new=decomposition.PCA(n_components=2)\n",
    "pca_new.fit(df)\n",
    "df_reduced=pca_new.transform(df)\n",
    "df_reduced=pd.DataFrame(df_reduced).set_index(ind)\n",
    "new_df=df_reduced.reset_index()\n",
    "new_df.head()"
   ]
  },
  {
   "cell_type": "code",
   "execution_count": 27,
   "metadata": {
    "scrolled": true
   },
   "outputs": [
    {
     "data": {
      "image/png": "[encoded data removed]",
      "text/plain": [
       "<Figure size 432x288 with 1 Axes>"
      ]
     },
     "metadata": {
      "needs_background": "light"
     },
     "output_type": "display_data"
    }
   ],
   "source": [
    "for x,y,g in zip(new_df[0],new_df[1],new_df[\"genre_top\"]):\n",
    "    if g==\"Rock\":\n",
    "        plt.scatter(x,y,alpha=0.6,c=\"r\")\n",
    "    else:\n",
    "        plt.scatter(x,y,alpha=0.6,c=\"b\")\n"
   ]
  },
  {
   "cell_type": "markdown",
   "metadata": {},
   "source": [
    "As can be seen above, using two componets can not classify appropriately two music genres. "
   ]
  },
  {
   "cell_type": "markdown",
   "metadata": {},
   "source": [
    "### 7. Train a Decision tree, Random forest, SVM, Logestic regression and KNN to classify genre"
   ]
  },
  {
   "cell_type": "code",
   "execution_count": 29,
   "metadata": {},
   "outputs": [],
   "source": [
    "from sklearn.model_selection import train_test_split \n",
    "from sklearn.metrics import confusion_matrix,accuracy_score, classification_report\n",
    "\n",
    "from sklearn.tree import DecisionTreeClassifier\n",
    "from sklearn.ensemble import RandomForestClassifier\n",
    "from sklearn.svm import SVC\n",
    "from sklearn.linear_model import LogisticRegression\n",
    "from sklearn.neighbors import KNeighborsClassifier"
   ]
  },
  {
   "cell_type": "code",
   "execution_count": 30,
   "metadata": {},
   "outputs": [],
   "source": [
    "## Determine target and predictors \n",
    "y=df.index\n",
    "X=df.reset_index(drop=True)\n",
    "## Split our data\n",
    "X_train, X_test, y_train, y_test = train_test_split(X, y, test_size=0.33, random_state=10)\n"
   ]
  },
  {
   "cell_type": "code",
   "execution_count": 41,
   "metadata": {},
   "outputs": [
    {
     "name": "stdout",
     "output_type": "stream",
     "text": [
      "5\n"
     ]
    },
    {
     "data": {
      "image/png": "[encoded data removed]",
      "text/plain": [
       "<Figure size 432x288 with 1 Axes>"
      ]
     },
     "metadata": {
      "needs_background": "light"
     },
     "output_type": "display_data"
    }
   ],
   "source": [
    "## finding the optimal k for KNN \n",
    "accuracy=[]\n",
    "for k in range(2,50):\n",
    "    # Fit Knn classifier\n",
    "    knn = KNeighborsClassifier(n_neighbors=k)\n",
    "    # Train the model using the training sets\n",
    "    knn.fit(X_train,y_train)\n",
    "    ind=accuracy_score(y_test, knn.predict(X_test))\n",
    "    accuracy.append(ind)\n",
    "\n",
    "opt_k=np.where(accuracy==np.max(accuracy))[0][0]\n",
    "print(opt_k)\n",
    "plt.plot(range(2,50),accuracy)\n",
    "plt.xlabel(\"k\")\n",
    "plt.ylabel(\"Accuracy\")\n",
    "plt.grid(linestyle=\"--\");"
   ]
  },
  {
   "cell_type": "code",
   "execution_count": 42,
   "metadata": {},
   "outputs": [],
   "source": [
    "classifiers = [\n",
    "    DecisionTreeClassifier(),\n",
    "    RandomForestClassifier(n_estimators=100),\n",
    "    SVC(kernel='linear'),\n",
    "    SVC(kernel=\"rbf\",C=1,gamma=2**-5,probability=True),\n",
    "    LogisticRegression(solver='lbfgs'),\n",
    "    KNeighborsClassifier(opt_k)]\n",
    "\n",
    "classifiers_names=[\"Decision Tree: \\n\",\n",
    "                   \"RandomForest: \\n\",\n",
    "                   \"Support vector machine with linear kernel: \\n\",\n",
    "                   \"Support vector machine with rbf kernel: \\n\",\n",
    "                   \"Logistic Regression: \\n\",\n",
    "                   \"K Nearest Neighbors: \\n\"]"
   ]
  },
  {
   "cell_type": "code",
   "execution_count": 44,
   "metadata": {},
   "outputs": [
    {
     "name": "stdout",
     "output_type": "stream",
     "text": [
      "Decision Tree: \n",
      "               precision    recall  f1-score   support\n",
      "\n",
      "     Hip-Hop       0.71      0.68      0.69       309\n",
      "        Rock       0.92      0.93      0.93      1276\n",
      "\n",
      "    accuracy                           0.88      1585\n",
      "   macro avg       0.82      0.81      0.81      1585\n",
      "weighted avg       0.88      0.88      0.88      1585\n",
      "\n",
      "---------------------------------------------------------\n",
      "RandomForest: \n",
      "               precision    recall  f1-score   support\n",
      "\n",
      "     Hip-Hop       0.82      0.69      0.75       309\n",
      "        Rock       0.93      0.96      0.94      1276\n",
      "\n",
      "    accuracy                           0.91      1585\n",
      "   macro avg       0.87      0.82      0.85      1585\n",
      "weighted avg       0.91      0.91      0.91      1585\n",
      "\n",
      "---------------------------------------------------------\n",
      "Support vector machine with linear kernel: \n",
      "               precision    recall  f1-score   support\n",
      "\n",
      "     Hip-Hop       0.79      0.56      0.65       309\n",
      "        Rock       0.90      0.96      0.93      1276\n",
      "\n",
      "    accuracy                           0.88      1585\n",
      "   macro avg       0.84      0.76      0.79      1585\n",
      "weighted avg       0.88      0.88      0.88      1585\n",
      "\n",
      "---------------------------------------------------------\n",
      "Support vector machine with rbf kernel: \n",
      "               precision    recall  f1-score   support\n",
      "\n",
      "     Hip-Hop       0.84      0.64      0.72       309\n",
      "        Rock       0.92      0.97      0.94      1276\n",
      "\n",
      "    accuracy                           0.91      1585\n",
      "   macro avg       0.88      0.80      0.83      1585\n",
      "weighted avg       0.90      0.91      0.90      1585\n",
      "\n",
      "---------------------------------------------------------\n",
      "Logistic Regression: \n",
      "               precision    recall  f1-score   support\n",
      "\n",
      "     Hip-Hop       0.78      0.57      0.66       309\n",
      "        Rock       0.90      0.96      0.93      1276\n",
      "\n",
      "    accuracy                           0.88      1585\n",
      "   macro avg       0.84      0.76      0.79      1585\n",
      "weighted avg       0.88      0.88      0.88      1585\n",
      "\n",
      "---------------------------------------------------------\n",
      "K Nearest Neighbors: \n",
      "               precision    recall  f1-score   support\n",
      "\n",
      "     Hip-Hop       0.84      0.64      0.73       309\n",
      "        Rock       0.92      0.97      0.94      1276\n",
      "\n",
      "    accuracy                           0.91      1585\n",
      "   macro avg       0.88      0.81      0.84      1585\n",
      "weighted avg       0.90      0.91      0.90      1585\n",
      "\n",
      "---------------------------------------------------------\n"
     ]
    }
   ],
   "source": [
    "i=0\n",
    "for classifier in classifiers:\n",
    "    model = classifier\n",
    "    model.fit(X_train,y_train)\n",
    "    # print(classifier)\n",
    "    class_rep = classification_report(y_test, model.predict(X_test))\n",
    "    print(classifiers_names[i],class_rep)\n",
    "    print(\"---------------------------------------------------------\")\n",
    "    i=i+1"
   ]
  },
  {
   "cell_type": "markdown",
   "metadata": {},
   "source": [
    "All models do similarly well. However, looking at our classification report, we can see that rock song are fairly well classified, but hip-hop songs are disproportionately misclassified as rock songs.\n",
    "### Why might this be the case?\n",
    "Well, just by looking at the number of data points we have for each class, we see that we have far more data points for the rock classification than for hip-hop, potentially skewing our model’s ability to distinguish between classes. This also tells us that most of our model’s accuracy is driven by its ability to classify just rock songs, which is less than ideal."
   ]
  },
  {
   "cell_type": "markdown",
   "metadata": {},
   "source": [
    "### 8. Balance our data for greater performance\n",
    "To account for this, we can weight the value of a correct classification in each class inversely to the occurrence of data points for each class. Since a correct classification for “Rock” is not more important than a correct classification for “Hip-Hop” (and vice versa), we only need to account for differences in the sample size of our data points when weighing our classes here, and not relative importance of each class."
   ]
  },
  {
   "cell_type": "code",
   "execution_count": 54,
   "metadata": {},
   "outputs": [
    {
     "data": {
      "text/html": [
       "<div>\n",
       "<style scoped>\n",
       "    .dataframe tbody tr th:only-of-type {\n",
       "        vertical-align: middle;\n",
       "    }\n",
       "\n",
       "    .dataframe tbody tr th {\n",
       "        vertical-align: top;\n",
       "    }\n",
       "\n",
       "    .dataframe thead th {\n",
       "        text-align: right;\n",
       "    }\n",
       "</style>\n",
       "<table border=\"1\" class=\"dataframe\">\n",
       "  <thead>\n",
       "    <tr style=\"text-align: right;\">\n",
       "      <th></th>\n",
       "      <th>feature1</th>\n",
       "      <th>feature2</th>\n",
       "      <th>feature3</th>\n",
       "      <th>feature4</th>\n",
       "      <th>feature5</th>\n",
       "      <th>feature6</th>\n",
       "      <th>feature7</th>\n",
       "      <th>feature8</th>\n",
       "    </tr>\n",
       "    <tr>\n",
       "      <th>genre_top</th>\n",
       "      <th></th>\n",
       "      <th></th>\n",
       "      <th></th>\n",
       "      <th></th>\n",
       "      <th></th>\n",
       "      <th></th>\n",
       "      <th></th>\n",
       "      <th></th>\n",
       "    </tr>\n",
       "  </thead>\n",
       "  <tbody>\n",
       "    <tr>\n",
       "      <td>Rock</td>\n",
       "      <td>1.042761</td>\n",
       "      <td>-1.211367</td>\n",
       "      <td>0.841999</td>\n",
       "      <td>0.830201</td>\n",
       "      <td>-0.077583</td>\n",
       "      <td>-0.625492</td>\n",
       "      <td>1.175671</td>\n",
       "      <td>0.799371</td>\n",
       "    </tr>\n",
       "    <tr>\n",
       "      <td>Rock</td>\n",
       "      <td>1.441337</td>\n",
       "      <td>-0.596124</td>\n",
       "      <td>0.216647</td>\n",
       "      <td>0.897551</td>\n",
       "      <td>1.092055</td>\n",
       "      <td>-0.696292</td>\n",
       "      <td>0.187806</td>\n",
       "      <td>0.794730</td>\n",
       "    </tr>\n",
       "    <tr>\n",
       "      <td>Rock</td>\n",
       "      <td>0.747427</td>\n",
       "      <td>-0.737183</td>\n",
       "      <td>1.485646</td>\n",
       "      <td>0.728177</td>\n",
       "      <td>-0.551839</td>\n",
       "      <td>-0.353303</td>\n",
       "      <td>0.053114</td>\n",
       "      <td>-1.133201</td>\n",
       "    </tr>\n",
       "    <tr>\n",
       "      <td>Rock</td>\n",
       "      <td>0.452621</td>\n",
       "      <td>-0.087696</td>\n",
       "      <td>1.359953</td>\n",
       "      <td>0.767531</td>\n",
       "      <td>-0.656800</td>\n",
       "      <td>-0.652256</td>\n",
       "      <td>0.154650</td>\n",
       "      <td>-0.902893</td>\n",
       "    </tr>\n",
       "    <tr>\n",
       "      <td>Rock</td>\n",
       "      <td>-1.222971</td>\n",
       "      <td>-1.302404</td>\n",
       "      <td>-0.766991</td>\n",
       "      <td>1.067543</td>\n",
       "      <td>1.675852</td>\n",
       "      <td>-0.660611</td>\n",
       "      <td>0.717225</td>\n",
       "      <td>-0.248379</td>\n",
       "    </tr>\n",
       "  </tbody>\n",
       "</table>\n",
       "</div>"
      ],
      "text/plain": [
       "           feature1  feature2  feature3  feature4  feature5  feature6  \\\n",
       "genre_top                                                               \n",
       "Rock       1.042761 -1.211367  0.841999  0.830201 -0.077583 -0.625492   \n",
       "Rock       1.441337 -0.596124  0.216647  0.897551  1.092055 -0.696292   \n",
       "Rock       0.747427 -0.737183  1.485646  0.728177 -0.551839 -0.353303   \n",
       "Rock       0.452621 -0.087696  1.359953  0.767531 -0.656800 -0.652256   \n",
       "Rock      -1.222971 -1.302404 -0.766991  1.067543  1.675852 -0.660611   \n",
       "\n",
       "           feature7  feature8  \n",
       "genre_top                      \n",
       "Rock       1.175671  0.799371  \n",
       "Rock       0.187806  0.794730  \n",
       "Rock       0.053114 -1.133201  \n",
       "Rock       0.154650 -0.902893  \n",
       "Rock       0.717225 -0.248379  "
      ]
     },
     "execution_count": 54,
     "metadata": {},
     "output_type": "execute_result"
    }
   ],
   "source": [
    "# Subset only the hip-hop tracks, and then only the rock tracks\n",
    "hop_only = echo_tracks.loc[echo_tracks[\"genre_top\"] == \"Hip-Hop\"]\n",
    "\n",
    "# sample the rocks songs to be the same number as there are hip-hop songs\n",
    "rock_only = echo_tracks.loc[echo_tracks[\"genre_top\"] == \"Rock\"].sample(len(hop_only), random_state=10)\n",
    "\n",
    "# concatenate the dataframes rock_only and hop_only\n",
    "rock_hop_bal = pd.concat([rock_only, hop_only])\n",
    "\n",
    "### data normalization\n",
    "scaler =StandardScaler()\n",
    "dat=rock_hop_bal.drop([\"track_id\"],axis=1).set_index(\"genre_top\")\n",
    "colName= [\"feature%s\"%(i+1) for i in range(0,dat.shape[1])]\n",
    "ind=dat.index\n",
    "dat_scaled = scaler.fit_transform(dat)\n",
    "df_bal = pd.DataFrame(dat_scaled).set_axis(colName, axis=1,inplace=False) ## set column name\n",
    "df_bal.set_index(ind,inplace=True)\n",
    "df_bal.head()"
   ]
  },
  {
   "cell_type": "code",
   "execution_count": 55,
   "metadata": {},
   "outputs": [],
   "source": [
    "## Redetermine target and predictors \n",
    "y=df_bal.index\n",
    "X=df_bal.reset_index(drop=True)\n",
    "## Redefine the train and test set from the balanced data\n",
    "X_train, X_test, y_train, y_test = train_test_split(X, y, test_size=0.33, random_state=10)"
   ]
  },
  {
   "cell_type": "markdown",
   "metadata": {},
   "source": [
    "We’ve now balanced our dataset, but in doing so, we’ve removed a lot of data points that might have been crucial to training our models. Let’s test to see if balancing our data improves model bias towards the “Rock” classification while retaining overall classification performance."
   ]
  },
  {
   "cell_type": "markdown",
   "metadata": {},
   "source": [
    "### 9. Does balancing our dataset improve model bias?\n",
    "Note that we have already reduced the size of our dataset and will go forward without applying any dimensionality reduction. In practice, we would consider dimensionality reduction more rigorously when dealing with vastly large datasets and when computation times become prohibitively large."
   ]
  },
  {
   "cell_type": "code",
   "execution_count": 56,
   "metadata": {},
   "outputs": [
    {
     "name": "stdout",
     "output_type": "stream",
     "text": [
      "26\n"
     ]
    }
   ],
   "source": [
    "## finding the optimal k for KNN \n",
    "accuracy=[]\n",
    "for k in range(2,50):\n",
    "    # Fit Knn classifier\n",
    "    knn = KNeighborsClassifier(n_neighbors=k)\n",
    "    # Train the model using the training sets\n",
    "    knn.fit(X_train,y_train)\n",
    "    ind=accuracy_score(y_test, knn.predict(X_test))\n",
    "    accuracy.append(ind)\n",
    "\n",
    "opt_k=np.where(accuracy==np.max(accuracy))[0][0]\n",
    "print(opt_k)"
   ]
  },
  {
   "cell_type": "code",
   "execution_count": 57,
   "metadata": {},
   "outputs": [
    {
     "name": "stdout",
     "output_type": "stream",
     "text": [
      "Decision Tree: \n",
      "               precision    recall  f1-score   support\n",
      "\n",
      "     Hip-Hop       0.80      0.84      0.82       300\n",
      "        Rock       0.83      0.80      0.81       301\n",
      "\n",
      "    accuracy                           0.82       601\n",
      "   macro avg       0.82      0.82      0.82       601\n",
      "weighted avg       0.82      0.82      0.82       601\n",
      "\n",
      "---------------------------------------------------------\n",
      "RandomForest: \n",
      "               precision    recall  f1-score   support\n",
      "\n",
      "     Hip-Hop       0.91      0.89      0.90       300\n",
      "        Rock       0.90      0.91      0.90       301\n",
      "\n",
      "    accuracy                           0.90       601\n",
      "   macro avg       0.90      0.90      0.90       601\n",
      "weighted avg       0.90      0.90      0.90       601\n",
      "\n",
      "---------------------------------------------------------\n",
      "Support vector machine with linear kernel: \n",
      "               precision    recall  f1-score   support\n",
      "\n",
      "     Hip-Hop       0.89      0.84      0.86       300\n",
      "        Rock       0.85      0.90      0.87       301\n",
      "\n",
      "    accuracy                           0.87       601\n",
      "   macro avg       0.87      0.87      0.87       601\n",
      "weighted avg       0.87      0.87      0.87       601\n",
      "\n",
      "---------------------------------------------------------\n",
      "Support vector machine with rbf kernel: \n",
      "               precision    recall  f1-score   support\n",
      "\n",
      "     Hip-Hop       0.91      0.86      0.88       300\n",
      "        Rock       0.87      0.91      0.89       301\n",
      "\n",
      "    accuracy                           0.89       601\n",
      "   macro avg       0.89      0.89      0.89       601\n",
      "weighted avg       0.89      0.89      0.89       601\n",
      "\n",
      "---------------------------------------------------------\n",
      "Logistic Regression: \n",
      "               precision    recall  f1-score   support\n",
      "\n",
      "     Hip-Hop       0.87      0.84      0.85       300\n",
      "        Rock       0.84      0.88      0.86       301\n",
      "\n",
      "    accuracy                           0.86       601\n",
      "   macro avg       0.86      0.86      0.86       601\n",
      "weighted avg       0.86      0.86      0.86       601\n",
      "\n",
      "---------------------------------------------------------\n",
      "K Nearest Neighbors: \n",
      "               precision    recall  f1-score   support\n",
      "\n",
      "     Hip-Hop       0.87      0.85      0.86       300\n",
      "        Rock       0.85      0.88      0.86       301\n",
      "\n",
      "    accuracy                           0.86       601\n",
      "   macro avg       0.86      0.86      0.86       601\n",
      "weighted avg       0.86      0.86      0.86       601\n",
      "\n",
      "---------------------------------------------------------\n"
     ]
    }
   ],
   "source": [
    "i=0\n",
    "for classifier in classifiers:\n",
    "    model = classifier\n",
    "    model.fit(X_train,y_train)\n",
    "    # print(classifier)\n",
    "    class_rep = classification_report(y_test, model.predict(X_test))\n",
    "    print(classifiers_names[i],class_rep)\n",
    "    print(\"---------------------------------------------------------\")\n",
    "    i=i+1"
   ]
  },
  {
   "cell_type": "markdown",
   "metadata": {},
   "source": [
    "Success! Balancing our data has removed bias towards the more prevalent class. To get a good sense of how well our models are actually performing, we can apply what’s called cross-validation(CV). This step allows us to compare models in a more rigorous fashion."
   ]
  },
  {
   "cell_type": "markdown",
   "metadata": {},
   "source": [
    "### 10. Using cross-validation to evaluate our models"
   ]
  },
  {
   "cell_type": "markdown",
   "metadata": {},
   "source": [
    "Since the way our data is split into train and test sets can impact model performance, CV attempts to split the data multiple ways and test the model on each of the splits. Although there are many different CV methods, all with their own advantages and disadvantages, we will use what’s known as K-fold cross-validation here. K-fold first splits the data into K different, equally sized subsets. Then, it iteratively uses each subset as a test set while using the remainder of the data as train sets. Finally, we can then aggregate the results from each fold for a final model performance score."
   ]
  },
  {
   "cell_type": "code",
   "execution_count": 58,
   "metadata": {},
   "outputs": [],
   "source": [
    "from sklearn.model_selection import KFold\n",
    "from sklearn.model_selection import cross_val_score"
   ]
  },
  {
   "cell_type": "code",
   "execution_count": 67,
   "metadata": {},
   "outputs": [
    {
     "name": "stdout",
     "output_type": "stream",
     "text": [
      " Average model score of Decision Tree: \n",
      " 0.819\n",
      "\n",
      "\n",
      " Average model score of RandomForest: \n",
      " 0.879\n",
      "\n",
      "\n",
      " Average model score of Support vector machine with linear kernel: \n",
      " 0.834\n",
      "\n",
      "\n",
      " Average model score of Support vector machine with rbf kernel: \n",
      " 0.841\n",
      "\n",
      "\n",
      " Average model score of Logistic Regression: \n",
      " 0.832\n",
      "\n",
      "\n",
      " Average model score of K Nearest Neighbors: \n",
      " 0.831\n",
      "\n",
      "\n"
     ]
    }
   ],
   "source": [
    "seed = 10\n",
    "kfold = KFold(n_splits=10, random_state=seed)\n",
    "i=0\n",
    "for classifier in classifiers:\n",
    "    model = classifier    \n",
    "    results = cross_val_score(model, X, y, cv=kfold)\n",
    "    print(\" Average model score of \"+classifiers_names[i]+\" %.3f\"%results.mean())\n",
    "    print(\"\\n\")\n",
    "    i+=1\n",
    "    "
   ]
  },
  {
   "cell_type": "markdown",
   "metadata": {},
   "source": [
    "Source: https://www.datacamp.com/projects/449"
   ]
  }
 ],
 "metadata": {
  "kernelspec": {
   "display_name": "Python 3",
   "language": "python",
   "name": "python3"
  },
  "language_info": {
   "codemirror_mode": {
    "name": "ipython",
    "version": 3
   },
   "file_extension": ".py",
   "mimetype": "text/x-python",
   "name": "python",
   "nbconvert_exporter": "python",
   "pygments_lexer": "ipython3",
   "version": "3.7.4"
  }
 },
 "nbformat": 4,
 "nbformat_minor": 2
}
